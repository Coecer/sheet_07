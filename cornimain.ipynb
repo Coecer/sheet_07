{
 "cells": [
  {
   "cell_type": "code",
   "execution_count": 1,
   "id": "517c63a9",
   "metadata": {},
   "outputs": [],
   "source": [
    "from Simulation import SimpleSim"
   ]
  },
  {
   "cell_type": "code",
   "execution_count": 2,
   "id": "038657cf",
   "metadata": {},
   "outputs": [
    {
     "name": "stderr",
     "output_type": "stream",
     "text": [
      "100%|██████████| 10000/10000 [00:03<00:00, 3175.11it/s]\n"
     ]
    }
   ],
   "source": [
    "SimpleSim('test2', 5)"
   ]
  }
 ],
 "metadata": {
  "kernelspec": {
   "display_name": "base",
   "language": "python",
   "name": "python3"
  },
  "language_info": {
   "codemirror_mode": {
    "name": "ipython",
    "version": 3
   },
   "file_extension": ".py",
   "mimetype": "text/x-python",
   "name": "python",
   "nbconvert_exporter": "python",
   "pygments_lexer": "ipython3",
   "version": "3.12.4"
  }
 },
 "nbformat": 4,
 "nbformat_minor": 5
}
